{
  "cells": [
    {
      "cell_type": "markdown",
      "source": [
        "# Importing Libraries"
      ],
      "metadata": {
        "id": "tx6O842ssdHc"
      }
    },
    {
      "cell_type": "code",
      "source": [
        "import re\n",
        "import nltk\n",
        "import string\n",
        "import numpy as np\n",
        "import pandas as pd\n",
        "import seaborn as sns\n",
        "import matplotlib.pyplot as plt\n",
        "from nltk.corpus import stopwords\n",
        "from nltk.stem import SnowballStemmer, WordNetLemmatizer\n",
        "from sklearn.feature_extraction.text import TfidfVectorizer\n",
        "\n",
        "from sklearn.preprocessing import LabelEncoder\n",
        "from sklearn.model_selection import train_test_split\n",
        "\n",
        "from tensorflow.keras.utils import to_categorical\n",
        "from tensorflow.keras.preprocessing.text import Tokenizer\n",
        "from tensorflow.keras.preprocessing.sequence import pad_sequences\n",
        "\n",
        "from tensorflow.keras.optimizers import Adam\n",
        "from tensorflow.keras.models import Sequential\n",
        "from tensorflow.keras.callbacks import EarlyStopping\n",
        "from tensorflow.keras.layers import Dense, LSTM, Embedding, Bidirectional\n",
        "import pandas as pd\n",
        "from sklearn.model_selection import train_test_split\n",
        "from sklearn.feature_extraction.text import TfidfVectorizer\n",
        "from sklearn.naive_bayes import MultinomialNB\n",
        "from sklearn.metrics import classification_report\n",
        "import nltk\n",
        "from nltk.corpus import stopwords\n",
        "from nltk.stem import PorterStemmer\n",
        "from sklearn.preprocessing import LabelEncoder\n"
      ],
      "metadata": {
        "id": "xRH15hN5S2vu"
      },
      "execution_count": 24,
      "outputs": []
    },
    {
      "cell_type": "markdown",
      "source": [
        "# Loading Dataset"
      ],
      "metadata": {
        "id": "PmslMqAXshvD"
      }
    },
    {
      "cell_type": "code",
      "source": [
        "df=pd.read_csv('/content/drive/MyDrive/Datathon.csv')"
      ],
      "metadata": {
        "id": "tEKLcXTKVK1_"
      },
      "execution_count": 25,
      "outputs": []
    },
    {
      "cell_type": "code",
      "source": [
        "df['Emotion']"
      ],
      "metadata": {
        "colab": {
          "base_uri": "https://localhost:8080/"
        },
        "id": "2HdmZjXHbAMj",
        "outputId": "7bb3ef08-c456-4210-a422-a837d62f09dc"
      },
      "execution_count": 26,
      "outputs": [
        {
          "output_type": "execute_result",
          "data": {
            "text/plain": [
              "0          UPSET\n",
              "1       OPTIMISM\n",
              "2        NEUTRAL\n",
              "3        NEUTRAL\n",
              "4          UPSET\n",
              "          ...   \n",
              "1612    OPTIMISM\n",
              "1613    OPTIMISM\n",
              "1614     NEUTRAL\n",
              "1615         JOY\n",
              "1616    OPTIMISM\n",
              "Name: Emotion, Length: 1617, dtype: object"
            ]
          },
          "metadata": {},
          "execution_count": 26
        }
      ]
    },
    {
      "cell_type": "code",
      "source": [],
      "metadata": {
        "id": "PCbOb6fIslAd"
      },
      "execution_count": 26,
      "outputs": []
    },
    {
      "cell_type": "markdown",
      "source": [
        "# Data Cleaning and Preprocessing"
      ],
      "metadata": {
        "id": "fqd_CBWVsmcV"
      }
    },
    {
      "cell_type": "code",
      "source": [
        "df=df.dropna()"
      ],
      "metadata": {
        "id": "oDxbUic7VY88"
      },
      "execution_count": 27,
      "outputs": []
    },
    {
      "cell_type": "code",
      "source": [
        "df=df[['Text_of_Speech','Emotion']]"
      ],
      "metadata": {
        "id": "4zyyC2AAVc5Q"
      },
      "execution_count": 28,
      "outputs": []
    },
    {
      "cell_type": "code",
      "source": [
        "df.isnull().sum()"
      ],
      "metadata": {
        "colab": {
          "base_uri": "https://localhost:8080/"
        },
        "id": "eViK_ucrVdqv",
        "outputId": "d1051154-3cfc-46f5-8169-477de84be397"
      },
      "execution_count": 29,
      "outputs": [
        {
          "output_type": "execute_result",
          "data": {
            "text/plain": [
              "Text_of_Speech    0\n",
              "Emotion           0\n",
              "dtype: int64"
            ]
          },
          "metadata": {},
          "execution_count": 29
        }
      ]
    },
    {
      "cell_type": "code",
      "source": [
        "def clean_text(text):\n",
        "    text = str(text).lower()\n",
        "    text = re.sub('\\[.*?\\]', '', text)\n",
        "    text = re.sub('https?://\\S+|www\\.\\S+', '', text)\n",
        "    text = re.sub('<.*?>+', '', text)\n",
        "    text = re.sub('[%s]' % re.escape(string.punctuation), '', text)\n",
        "    text = re.sub('\\n', '', text)\n",
        "    text = re.sub('\\w*\\d\\w*', '', text)\n",
        "    return text"
      ],
      "metadata": {
        "id": "UnaDVVDiXYqo"
      },
      "execution_count": 30,
      "outputs": []
    },
    {
      "cell_type": "code",
      "source": [
        "df['Text_of_Speech'] = df['Text_of_Speech'].apply(clean_text)\n",
        "df.head()"
      ],
      "metadata": {
        "colab": {
          "base_uri": "https://localhost:8080/",
          "height": 206
        },
        "id": "UqqEMSuNXa_0",
        "outputId": "7ad78105-359c-4a63-bc3d-288076e2941d"
      },
      "execution_count": 31,
      "outputs": [
        {
          "output_type": "execute_result",
          "data": {
            "text/plain": [
              "                                      Text_of_Speech   Emotion\n",
              "0  esteemed mr lebedevladies and gentlemenyou hav...     UPSET\n",
              "1  the president  good evening my fellow american...  OPTIMISM\n",
              "2  good afternoon dear colleaguesour meeting toda...   NEUTRAL\n",
              "3  good afternoon everybody this sound system is ...   NEUTRAL\n",
              "4  more americans voted in the  elections than an...     UPSET"
            ],
            "text/html": [
              "\n",
              "  <div id=\"df-df58f910-7f9d-40f4-8c99-16303a60ccc9\" class=\"colab-df-container\">\n",
              "    <div>\n",
              "<style scoped>\n",
              "    .dataframe tbody tr th:only-of-type {\n",
              "        vertical-align: middle;\n",
              "    }\n",
              "\n",
              "    .dataframe tbody tr th {\n",
              "        vertical-align: top;\n",
              "    }\n",
              "\n",
              "    .dataframe thead th {\n",
              "        text-align: right;\n",
              "    }\n",
              "</style>\n",
              "<table border=\"1\" class=\"dataframe\">\n",
              "  <thead>\n",
              "    <tr style=\"text-align: right;\">\n",
              "      <th></th>\n",
              "      <th>Text_of_Speech</th>\n",
              "      <th>Emotion</th>\n",
              "    </tr>\n",
              "  </thead>\n",
              "  <tbody>\n",
              "    <tr>\n",
              "      <th>0</th>\n",
              "      <td>esteemed mr lebedevladies and gentlemenyou hav...</td>\n",
              "      <td>UPSET</td>\n",
              "    </tr>\n",
              "    <tr>\n",
              "      <th>1</th>\n",
              "      <td>the president  good evening my fellow american...</td>\n",
              "      <td>OPTIMISM</td>\n",
              "    </tr>\n",
              "    <tr>\n",
              "      <th>2</th>\n",
              "      <td>good afternoon dear colleaguesour meeting toda...</td>\n",
              "      <td>NEUTRAL</td>\n",
              "    </tr>\n",
              "    <tr>\n",
              "      <th>3</th>\n",
              "      <td>good afternoon everybody this sound system is ...</td>\n",
              "      <td>NEUTRAL</td>\n",
              "    </tr>\n",
              "    <tr>\n",
              "      <th>4</th>\n",
              "      <td>more americans voted in the  elections than an...</td>\n",
              "      <td>UPSET</td>\n",
              "    </tr>\n",
              "  </tbody>\n",
              "</table>\n",
              "</div>\n",
              "    <div class=\"colab-df-buttons\">\n",
              "\n",
              "  <div class=\"colab-df-container\">\n",
              "    <button class=\"colab-df-convert\" onclick=\"convertToInteractive('df-df58f910-7f9d-40f4-8c99-16303a60ccc9')\"\n",
              "            title=\"Convert this dataframe to an interactive table.\"\n",
              "            style=\"display:none;\">\n",
              "\n",
              "  <svg xmlns=\"http://www.w3.org/2000/svg\" height=\"24px\" viewBox=\"0 -960 960 960\">\n",
              "    <path d=\"M120-120v-720h720v720H120Zm60-500h600v-160H180v160Zm220 220h160v-160H400v160Zm0 220h160v-160H400v160ZM180-400h160v-160H180v160Zm440 0h160v-160H620v160ZM180-180h160v-160H180v160Zm440 0h160v-160H620v160Z\"/>\n",
              "  </svg>\n",
              "    </button>\n",
              "\n",
              "  <style>\n",
              "    .colab-df-container {\n",
              "      display:flex;\n",
              "      gap: 12px;\n",
              "    }\n",
              "\n",
              "    .colab-df-convert {\n",
              "      background-color: #E8F0FE;\n",
              "      border: none;\n",
              "      border-radius: 50%;\n",
              "      cursor: pointer;\n",
              "      display: none;\n",
              "      fill: #1967D2;\n",
              "      height: 32px;\n",
              "      padding: 0 0 0 0;\n",
              "      width: 32px;\n",
              "    }\n",
              "\n",
              "    .colab-df-convert:hover {\n",
              "      background-color: #E2EBFA;\n",
              "      box-shadow: 0px 1px 2px rgba(60, 64, 67, 0.3), 0px 1px 3px 1px rgba(60, 64, 67, 0.15);\n",
              "      fill: #174EA6;\n",
              "    }\n",
              "\n",
              "    .colab-df-buttons div {\n",
              "      margin-bottom: 4px;\n",
              "    }\n",
              "\n",
              "    [theme=dark] .colab-df-convert {\n",
              "      background-color: #3B4455;\n",
              "      fill: #D2E3FC;\n",
              "    }\n",
              "\n",
              "    [theme=dark] .colab-df-convert:hover {\n",
              "      background-color: #434B5C;\n",
              "      box-shadow: 0px 1px 3px 1px rgba(0, 0, 0, 0.15);\n",
              "      filter: drop-shadow(0px 1px 2px rgba(0, 0, 0, 0.3));\n",
              "      fill: #FFFFFF;\n",
              "    }\n",
              "  </style>\n",
              "\n",
              "    <script>\n",
              "      const buttonEl =\n",
              "        document.querySelector('#df-df58f910-7f9d-40f4-8c99-16303a60ccc9 button.colab-df-convert');\n",
              "      buttonEl.style.display =\n",
              "        google.colab.kernel.accessAllowed ? 'block' : 'none';\n",
              "\n",
              "      async function convertToInteractive(key) {\n",
              "        const element = document.querySelector('#df-df58f910-7f9d-40f4-8c99-16303a60ccc9');\n",
              "        const dataTable =\n",
              "          await google.colab.kernel.invokeFunction('convertToInteractive',\n",
              "                                                    [key], {});\n",
              "        if (!dataTable) return;\n",
              "\n",
              "        const docLinkHtml = 'Like what you see? Visit the ' +\n",
              "          '<a target=\"_blank\" href=https://colab.research.google.com/notebooks/data_table.ipynb>data table notebook</a>'\n",
              "          + ' to learn more about interactive tables.';\n",
              "        element.innerHTML = '';\n",
              "        dataTable['output_type'] = 'display_data';\n",
              "        await google.colab.output.renderOutput(dataTable, element);\n",
              "        const docLink = document.createElement('div');\n",
              "        docLink.innerHTML = docLinkHtml;\n",
              "        element.appendChild(docLink);\n",
              "      }\n",
              "    </script>\n",
              "  </div>\n",
              "\n",
              "\n",
              "<div id=\"df-f26821be-c063-4086-8711-f1b6b502cb2d\">\n",
              "  <button class=\"colab-df-quickchart\" onclick=\"quickchart('df-f26821be-c063-4086-8711-f1b6b502cb2d')\"\n",
              "            title=\"Suggest charts.\"\n",
              "            style=\"display:none;\">\n",
              "\n",
              "<svg xmlns=\"http://www.w3.org/2000/svg\" height=\"24px\"viewBox=\"0 0 24 24\"\n",
              "     width=\"24px\">\n",
              "    <g>\n",
              "        <path d=\"M19 3H5c-1.1 0-2 .9-2 2v14c0 1.1.9 2 2 2h14c1.1 0 2-.9 2-2V5c0-1.1-.9-2-2-2zM9 17H7v-7h2v7zm4 0h-2V7h2v10zm4 0h-2v-4h2v4z\"/>\n",
              "    </g>\n",
              "</svg>\n",
              "  </button>\n",
              "\n",
              "<style>\n",
              "  .colab-df-quickchart {\n",
              "      --bg-color: #E8F0FE;\n",
              "      --fill-color: #1967D2;\n",
              "      --hover-bg-color: #E2EBFA;\n",
              "      --hover-fill-color: #174EA6;\n",
              "      --disabled-fill-color: #AAA;\n",
              "      --disabled-bg-color: #DDD;\n",
              "  }\n",
              "\n",
              "  [theme=dark] .colab-df-quickchart {\n",
              "      --bg-color: #3B4455;\n",
              "      --fill-color: #D2E3FC;\n",
              "      --hover-bg-color: #434B5C;\n",
              "      --hover-fill-color: #FFFFFF;\n",
              "      --disabled-bg-color: #3B4455;\n",
              "      --disabled-fill-color: #666;\n",
              "  }\n",
              "\n",
              "  .colab-df-quickchart {\n",
              "    background-color: var(--bg-color);\n",
              "    border: none;\n",
              "    border-radius: 50%;\n",
              "    cursor: pointer;\n",
              "    display: none;\n",
              "    fill: var(--fill-color);\n",
              "    height: 32px;\n",
              "    padding: 0;\n",
              "    width: 32px;\n",
              "  }\n",
              "\n",
              "  .colab-df-quickchart:hover {\n",
              "    background-color: var(--hover-bg-color);\n",
              "    box-shadow: 0 1px 2px rgba(60, 64, 67, 0.3), 0 1px 3px 1px rgba(60, 64, 67, 0.15);\n",
              "    fill: var(--button-hover-fill-color);\n",
              "  }\n",
              "\n",
              "  .colab-df-quickchart-complete:disabled,\n",
              "  .colab-df-quickchart-complete:disabled:hover {\n",
              "    background-color: var(--disabled-bg-color);\n",
              "    fill: var(--disabled-fill-color);\n",
              "    box-shadow: none;\n",
              "  }\n",
              "\n",
              "  .colab-df-spinner {\n",
              "    border: 2px solid var(--fill-color);\n",
              "    border-color: transparent;\n",
              "    border-bottom-color: var(--fill-color);\n",
              "    animation:\n",
              "      spin 1s steps(1) infinite;\n",
              "  }\n",
              "\n",
              "  @keyframes spin {\n",
              "    0% {\n",
              "      border-color: transparent;\n",
              "      border-bottom-color: var(--fill-color);\n",
              "      border-left-color: var(--fill-color);\n",
              "    }\n",
              "    20% {\n",
              "      border-color: transparent;\n",
              "      border-left-color: var(--fill-color);\n",
              "      border-top-color: var(--fill-color);\n",
              "    }\n",
              "    30% {\n",
              "      border-color: transparent;\n",
              "      border-left-color: var(--fill-color);\n",
              "      border-top-color: var(--fill-color);\n",
              "      border-right-color: var(--fill-color);\n",
              "    }\n",
              "    40% {\n",
              "      border-color: transparent;\n",
              "      border-right-color: var(--fill-color);\n",
              "      border-top-color: var(--fill-color);\n",
              "    }\n",
              "    60% {\n",
              "      border-color: transparent;\n",
              "      border-right-color: var(--fill-color);\n",
              "    }\n",
              "    80% {\n",
              "      border-color: transparent;\n",
              "      border-right-color: var(--fill-color);\n",
              "      border-bottom-color: var(--fill-color);\n",
              "    }\n",
              "    90% {\n",
              "      border-color: transparent;\n",
              "      border-bottom-color: var(--fill-color);\n",
              "    }\n",
              "  }\n",
              "</style>\n",
              "\n",
              "  <script>\n",
              "    async function quickchart(key) {\n",
              "      const quickchartButtonEl =\n",
              "        document.querySelector('#' + key + ' button');\n",
              "      quickchartButtonEl.disabled = true;  // To prevent multiple clicks.\n",
              "      quickchartButtonEl.classList.add('colab-df-spinner');\n",
              "      try {\n",
              "        const charts = await google.colab.kernel.invokeFunction(\n",
              "            'suggestCharts', [key], {});\n",
              "      } catch (error) {\n",
              "        console.error('Error during call to suggestCharts:', error);\n",
              "      }\n",
              "      quickchartButtonEl.classList.remove('colab-df-spinner');\n",
              "      quickchartButtonEl.classList.add('colab-df-quickchart-complete');\n",
              "    }\n",
              "    (() => {\n",
              "      let quickchartButtonEl =\n",
              "        document.querySelector('#df-f26821be-c063-4086-8711-f1b6b502cb2d button');\n",
              "      quickchartButtonEl.style.display =\n",
              "        google.colab.kernel.accessAllowed ? 'block' : 'none';\n",
              "    })();\n",
              "  </script>\n",
              "</div>\n",
              "    </div>\n",
              "  </div>\n"
            ]
          },
          "metadata": {},
          "execution_count": 31
        }
      ]
    },
    {
      "cell_type": "code",
      "source": [
        "import string\n",
        "from nltk.corpus import stopwords\n",
        "from nltk.stem.porter import PorterStemmer\n",
        "ps= PorterStemmer()"
      ],
      "metadata": {
        "id": "5uHXaFDfXpD_"
      },
      "execution_count": 32,
      "outputs": []
    },
    {
      "cell_type": "code",
      "source": [
        "import nltk\n",
        "nltk.download('stopwords')"
      ],
      "metadata": {
        "colab": {
          "base_uri": "https://localhost:8080/"
        },
        "id": "5wFPzDXWCu4I",
        "outputId": "b795f88a-810f-4600-d723-a82447398474"
      },
      "execution_count": 36,
      "outputs": [
        {
          "output_type": "stream",
          "name": "stderr",
          "text": [
            "[nltk_data] Downloading package stopwords to /root/nltk_data...\n",
            "[nltk_data]   Unzipping corpora/stopwords.zip.\n"
          ]
        },
        {
          "output_type": "execute_result",
          "data": {
            "text/plain": [
              "True"
            ]
          },
          "metadata": {},
          "execution_count": 36
        }
      ]
    },
    {
      "cell_type": "code",
      "source": [
        "stop_words = stopwords.words('english')"
      ],
      "metadata": {
        "id": "qnF9BPNwC2Tv"
      },
      "execution_count": 38,
      "outputs": []
    },
    {
      "cell_type": "code",
      "source": [
        "#stop_words = stopwords.words('english')\n",
        "more_stopwords = ['u', 'im', 'c']\n",
        "stop_words = stop_words + more_stopwords\n",
        "\n",
        "def remove_stopwords(text):\n",
        "    text = ' '.join(word for word in text.split(' ') if word not in stop_words)\n",
        "    return text\n",
        "\n",
        "df['Text_of_Speech'] = df['Text_of_Speech'].apply(remove_stopwords)\n",
        "df.head()"
      ],
      "metadata": {
        "colab": {
          "base_uri": "https://localhost:8080/",
          "height": 206
        },
        "id": "oVgTqlynXtc5",
        "outputId": "ccbe251b-ae11-45c9-c074-ab092ac22881"
      },
      "execution_count": 39,
      "outputs": [
        {
          "output_type": "execute_result",
          "data": {
            "text/plain": [
              "                                      Text_of_Speech   Emotion\n",
              "0  esteemed mr lebedevladies gentlemenyou gathere...     UPSET\n",
              "1  president  good evening fellow americans  want...  OPTIMISM\n",
              "2  good afternoon dear colleaguesour meeting toda...   NEUTRAL\n",
              "3  good afternoon everybody sound system really p...   NEUTRAL\n",
              "4  americans voted  elections election nation’s h...     UPSET"
            ],
            "text/html": [
              "\n",
              "  <div id=\"df-1a4681e8-b665-4f77-8e57-f97266fb53e3\" class=\"colab-df-container\">\n",
              "    <div>\n",
              "<style scoped>\n",
              "    .dataframe tbody tr th:only-of-type {\n",
              "        vertical-align: middle;\n",
              "    }\n",
              "\n",
              "    .dataframe tbody tr th {\n",
              "        vertical-align: top;\n",
              "    }\n",
              "\n",
              "    .dataframe thead th {\n",
              "        text-align: right;\n",
              "    }\n",
              "</style>\n",
              "<table border=\"1\" class=\"dataframe\">\n",
              "  <thead>\n",
              "    <tr style=\"text-align: right;\">\n",
              "      <th></th>\n",
              "      <th>Text_of_Speech</th>\n",
              "      <th>Emotion</th>\n",
              "    </tr>\n",
              "  </thead>\n",
              "  <tbody>\n",
              "    <tr>\n",
              "      <th>0</th>\n",
              "      <td>esteemed mr lebedevladies gentlemenyou gathere...</td>\n",
              "      <td>UPSET</td>\n",
              "    </tr>\n",
              "    <tr>\n",
              "      <th>1</th>\n",
              "      <td>president  good evening fellow americans  want...</td>\n",
              "      <td>OPTIMISM</td>\n",
              "    </tr>\n",
              "    <tr>\n",
              "      <th>2</th>\n",
              "      <td>good afternoon dear colleaguesour meeting toda...</td>\n",
              "      <td>NEUTRAL</td>\n",
              "    </tr>\n",
              "    <tr>\n",
              "      <th>3</th>\n",
              "      <td>good afternoon everybody sound system really p...</td>\n",
              "      <td>NEUTRAL</td>\n",
              "    </tr>\n",
              "    <tr>\n",
              "      <th>4</th>\n",
              "      <td>americans voted  elections election nation’s h...</td>\n",
              "      <td>UPSET</td>\n",
              "    </tr>\n",
              "  </tbody>\n",
              "</table>\n",
              "</div>\n",
              "    <div class=\"colab-df-buttons\">\n",
              "\n",
              "  <div class=\"colab-df-container\">\n",
              "    <button class=\"colab-df-convert\" onclick=\"convertToInteractive('df-1a4681e8-b665-4f77-8e57-f97266fb53e3')\"\n",
              "            title=\"Convert this dataframe to an interactive table.\"\n",
              "            style=\"display:none;\">\n",
              "\n",
              "  <svg xmlns=\"http://www.w3.org/2000/svg\" height=\"24px\" viewBox=\"0 -960 960 960\">\n",
              "    <path d=\"M120-120v-720h720v720H120Zm60-500h600v-160H180v160Zm220 220h160v-160H400v160Zm0 220h160v-160H400v160ZM180-400h160v-160H180v160Zm440 0h160v-160H620v160ZM180-180h160v-160H180v160Zm440 0h160v-160H620v160Z\"/>\n",
              "  </svg>\n",
              "    </button>\n",
              "\n",
              "  <style>\n",
              "    .colab-df-container {\n",
              "      display:flex;\n",
              "      gap: 12px;\n",
              "    }\n",
              "\n",
              "    .colab-df-convert {\n",
              "      background-color: #E8F0FE;\n",
              "      border: none;\n",
              "      border-radius: 50%;\n",
              "      cursor: pointer;\n",
              "      display: none;\n",
              "      fill: #1967D2;\n",
              "      height: 32px;\n",
              "      padding: 0 0 0 0;\n",
              "      width: 32px;\n",
              "    }\n",
              "\n",
              "    .colab-df-convert:hover {\n",
              "      background-color: #E2EBFA;\n",
              "      box-shadow: 0px 1px 2px rgba(60, 64, 67, 0.3), 0px 1px 3px 1px rgba(60, 64, 67, 0.15);\n",
              "      fill: #174EA6;\n",
              "    }\n",
              "\n",
              "    .colab-df-buttons div {\n",
              "      margin-bottom: 4px;\n",
              "    }\n",
              "\n",
              "    [theme=dark] .colab-df-convert {\n",
              "      background-color: #3B4455;\n",
              "      fill: #D2E3FC;\n",
              "    }\n",
              "\n",
              "    [theme=dark] .colab-df-convert:hover {\n",
              "      background-color: #434B5C;\n",
              "      box-shadow: 0px 1px 3px 1px rgba(0, 0, 0, 0.15);\n",
              "      filter: drop-shadow(0px 1px 2px rgba(0, 0, 0, 0.3));\n",
              "      fill: #FFFFFF;\n",
              "    }\n",
              "  </style>\n",
              "\n",
              "    <script>\n",
              "      const buttonEl =\n",
              "        document.querySelector('#df-1a4681e8-b665-4f77-8e57-f97266fb53e3 button.colab-df-convert');\n",
              "      buttonEl.style.display =\n",
              "        google.colab.kernel.accessAllowed ? 'block' : 'none';\n",
              "\n",
              "      async function convertToInteractive(key) {\n",
              "        const element = document.querySelector('#df-1a4681e8-b665-4f77-8e57-f97266fb53e3');\n",
              "        const dataTable =\n",
              "          await google.colab.kernel.invokeFunction('convertToInteractive',\n",
              "                                                    [key], {});\n",
              "        if (!dataTable) return;\n",
              "\n",
              "        const docLinkHtml = 'Like what you see? Visit the ' +\n",
              "          '<a target=\"_blank\" href=https://colab.research.google.com/notebooks/data_table.ipynb>data table notebook</a>'\n",
              "          + ' to learn more about interactive tables.';\n",
              "        element.innerHTML = '';\n",
              "        dataTable['output_type'] = 'display_data';\n",
              "        await google.colab.output.renderOutput(dataTable, element);\n",
              "        const docLink = document.createElement('div');\n",
              "        docLink.innerHTML = docLinkHtml;\n",
              "        element.appendChild(docLink);\n",
              "      }\n",
              "    </script>\n",
              "  </div>\n",
              "\n",
              "\n",
              "<div id=\"df-07aa4ab1-b00c-4be7-bbc6-6f1ff34c3fc4\">\n",
              "  <button class=\"colab-df-quickchart\" onclick=\"quickchart('df-07aa4ab1-b00c-4be7-bbc6-6f1ff34c3fc4')\"\n",
              "            title=\"Suggest charts.\"\n",
              "            style=\"display:none;\">\n",
              "\n",
              "<svg xmlns=\"http://www.w3.org/2000/svg\" height=\"24px\"viewBox=\"0 0 24 24\"\n",
              "     width=\"24px\">\n",
              "    <g>\n",
              "        <path d=\"M19 3H5c-1.1 0-2 .9-2 2v14c0 1.1.9 2 2 2h14c1.1 0 2-.9 2-2V5c0-1.1-.9-2-2-2zM9 17H7v-7h2v7zm4 0h-2V7h2v10zm4 0h-2v-4h2v4z\"/>\n",
              "    </g>\n",
              "</svg>\n",
              "  </button>\n",
              "\n",
              "<style>\n",
              "  .colab-df-quickchart {\n",
              "      --bg-color: #E8F0FE;\n",
              "      --fill-color: #1967D2;\n",
              "      --hover-bg-color: #E2EBFA;\n",
              "      --hover-fill-color: #174EA6;\n",
              "      --disabled-fill-color: #AAA;\n",
              "      --disabled-bg-color: #DDD;\n",
              "  }\n",
              "\n",
              "  [theme=dark] .colab-df-quickchart {\n",
              "      --bg-color: #3B4455;\n",
              "      --fill-color: #D2E3FC;\n",
              "      --hover-bg-color: #434B5C;\n",
              "      --hover-fill-color: #FFFFFF;\n",
              "      --disabled-bg-color: #3B4455;\n",
              "      --disabled-fill-color: #666;\n",
              "  }\n",
              "\n",
              "  .colab-df-quickchart {\n",
              "    background-color: var(--bg-color);\n",
              "    border: none;\n",
              "    border-radius: 50%;\n",
              "    cursor: pointer;\n",
              "    display: none;\n",
              "    fill: var(--fill-color);\n",
              "    height: 32px;\n",
              "    padding: 0;\n",
              "    width: 32px;\n",
              "  }\n",
              "\n",
              "  .colab-df-quickchart:hover {\n",
              "    background-color: var(--hover-bg-color);\n",
              "    box-shadow: 0 1px 2px rgba(60, 64, 67, 0.3), 0 1px 3px 1px rgba(60, 64, 67, 0.15);\n",
              "    fill: var(--button-hover-fill-color);\n",
              "  }\n",
              "\n",
              "  .colab-df-quickchart-complete:disabled,\n",
              "  .colab-df-quickchart-complete:disabled:hover {\n",
              "    background-color: var(--disabled-bg-color);\n",
              "    fill: var(--disabled-fill-color);\n",
              "    box-shadow: none;\n",
              "  }\n",
              "\n",
              "  .colab-df-spinner {\n",
              "    border: 2px solid var(--fill-color);\n",
              "    border-color: transparent;\n",
              "    border-bottom-color: var(--fill-color);\n",
              "    animation:\n",
              "      spin 1s steps(1) infinite;\n",
              "  }\n",
              "\n",
              "  @keyframes spin {\n",
              "    0% {\n",
              "      border-color: transparent;\n",
              "      border-bottom-color: var(--fill-color);\n",
              "      border-left-color: var(--fill-color);\n",
              "    }\n",
              "    20% {\n",
              "      border-color: transparent;\n",
              "      border-left-color: var(--fill-color);\n",
              "      border-top-color: var(--fill-color);\n",
              "    }\n",
              "    30% {\n",
              "      border-color: transparent;\n",
              "      border-left-color: var(--fill-color);\n",
              "      border-top-color: var(--fill-color);\n",
              "      border-right-color: var(--fill-color);\n",
              "    }\n",
              "    40% {\n",
              "      border-color: transparent;\n",
              "      border-right-color: var(--fill-color);\n",
              "      border-top-color: var(--fill-color);\n",
              "    }\n",
              "    60% {\n",
              "      border-color: transparent;\n",
              "      border-right-color: var(--fill-color);\n",
              "    }\n",
              "    80% {\n",
              "      border-color: transparent;\n",
              "      border-right-color: var(--fill-color);\n",
              "      border-bottom-color: var(--fill-color);\n",
              "    }\n",
              "    90% {\n",
              "      border-color: transparent;\n",
              "      border-bottom-color: var(--fill-color);\n",
              "    }\n",
              "  }\n",
              "</style>\n",
              "\n",
              "  <script>\n",
              "    async function quickchart(key) {\n",
              "      const quickchartButtonEl =\n",
              "        document.querySelector('#' + key + ' button');\n",
              "      quickchartButtonEl.disabled = true;  // To prevent multiple clicks.\n",
              "      quickchartButtonEl.classList.add('colab-df-spinner');\n",
              "      try {\n",
              "        const charts = await google.colab.kernel.invokeFunction(\n",
              "            'suggestCharts', [key], {});\n",
              "      } catch (error) {\n",
              "        console.error('Error during call to suggestCharts:', error);\n",
              "      }\n",
              "      quickchartButtonEl.classList.remove('colab-df-spinner');\n",
              "      quickchartButtonEl.classList.add('colab-df-quickchart-complete');\n",
              "    }\n",
              "    (() => {\n",
              "      let quickchartButtonEl =\n",
              "        document.querySelector('#df-07aa4ab1-b00c-4be7-bbc6-6f1ff34c3fc4 button');\n",
              "      quickchartButtonEl.style.display =\n",
              "        google.colab.kernel.accessAllowed ? 'block' : 'none';\n",
              "    })();\n",
              "  </script>\n",
              "</div>\n",
              "    </div>\n",
              "  </div>\n"
            ]
          },
          "metadata": {},
          "execution_count": 39
        }
      ]
    },
    {
      "cell_type": "code",
      "source": [
        "import nltk\n",
        "stemmer = nltk.SnowballStemmer(\"english\")\n",
        "\n",
        "def stemm_text(text):\n",
        "    text = ' '.join(stemmer.stem(word) for word in text.split(' '))\n",
        "    return text"
      ],
      "metadata": {
        "id": "zhVpyEVKX2vZ"
      },
      "execution_count": 40,
      "outputs": []
    },
    {
      "cell_type": "code",
      "source": [
        "df['Text_of_Speech'] = df['Text_of_Speech'].apply(stemm_text)"
      ],
      "metadata": {
        "id": "abMK5hGrX7l0"
      },
      "execution_count": 41,
      "outputs": []
    },
    {
      "cell_type": "code",
      "source": [
        "import pandas as pd\n",
        "from sklearn.preprocessing import LabelEncoder\n",
        "le = LabelEncoder()\n",
        "df['Target'] = le.fit_transform(df['Emotion'])"
      ],
      "metadata": {
        "id": "lJyrRZ7ee-Ne"
      },
      "execution_count": 42,
      "outputs": []
    },
    {
      "cell_type": "code",
      "source": [
        "df['Target'][0]"
      ],
      "metadata": {
        "id": "SbH2bjOZfo2h",
        "colab": {
          "base_uri": "https://localhost:8080/"
        },
        "outputId": "624ec378-e5cd-4714-b101-a62d6f7c7465"
      },
      "execution_count": 43,
      "outputs": [
        {
          "output_type": "execute_result",
          "data": {
            "text/plain": [
              "3"
            ]
          },
          "metadata": {},
          "execution_count": 43
        }
      ]
    },
    {
      "cell_type": "markdown",
      "source": [
        "# Splitting the Dataset Into Training and testing"
      ],
      "metadata": {
        "id": "Q4bdkKQasrXk"
      }
    },
    {
      "cell_type": "code",
      "source": [
        "x_train, x_test, y_train, y_test = train_test_split(df['Text_of_Speech'], df['Target'], test_size=0.3, random_state=42)\n"
      ],
      "metadata": {
        "id": "Ri-9EP3CWOn2"
      },
      "execution_count": 44,
      "outputs": []
    },
    {
      "cell_type": "code",
      "source": [
        "x_train.shape"
      ],
      "metadata": {
        "id": "KjOxiEA9aAaX",
        "colab": {
          "base_uri": "https://localhost:8080/"
        },
        "outputId": "7ea66274-5a2a-49dc-f234-cdfa07c8e114"
      },
      "execution_count": 45,
      "outputs": [
        {
          "output_type": "execute_result",
          "data": {
            "text/plain": [
              "(1123,)"
            ]
          },
          "metadata": {},
          "execution_count": 45
        }
      ]
    },
    {
      "cell_type": "code",
      "source": [
        "from sklearn.feature_extraction.text import TfidfVectorizer\n",
        "tfidf_vectorizer = TfidfVectorizer()"
      ],
      "metadata": {
        "id": "7ZyFqj67DQTv"
      },
      "execution_count": 47,
      "outputs": []
    },
    {
      "cell_type": "code",
      "source": [
        "from sklearn.feature_extraction.text import TfidfVectorizer\n",
        "tfidf_vectorizer = TfidfVectorizer()\n",
        "\n",
        "X_train_tfidf = tfidf_vectorizer.fit_transform(x_train)\n",
        "X_test_tfidf = tfidf_vectorizer.transform(x_test)"
      ],
      "metadata": {
        "id": "nizVd-eJaBs0"
      },
      "execution_count": 49,
      "outputs": []
    },
    {
      "cell_type": "code",
      "source": [
        "X_train_tfidf"
      ],
      "metadata": {
        "id": "ZMpGc82NaQOx",
        "colab": {
          "base_uri": "https://localhost:8080/"
        },
        "outputId": "7ec50df4-1c02-49bd-dabf-4bf6240f3ba6"
      },
      "execution_count": 50,
      "outputs": [
        {
          "output_type": "execute_result",
          "data": {
            "text/plain": [
              "<1123x28606 sparse matrix of type '<class 'numpy.float64'>'\n",
              "\twith 387410 stored elements in Compressed Sparse Row format>"
            ]
          },
          "metadata": {},
          "execution_count": 50
        }
      ]
    },
    {
      "cell_type": "markdown",
      "source": [
        "# Logistic Regression"
      ],
      "metadata": {
        "id": "3OKtn9SttcK1"
      }
    },
    {
      "cell_type": "code",
      "source": [
        "from sklearn.linear_model import LogisticRegression"
      ],
      "metadata": {
        "id": "aTc_81JxaTMU"
      },
      "execution_count": 51,
      "outputs": []
    },
    {
      "cell_type": "code",
      "source": [
        "lr=LogisticRegression()"
      ],
      "metadata": {
        "id": "FBi173ZGaeqi"
      },
      "execution_count": 52,
      "outputs": []
    },
    {
      "cell_type": "code",
      "source": [
        "lr.fit(X_train_tfidf,y_train)"
      ],
      "metadata": {
        "id": "3dFHJLVfak6f",
        "colab": {
          "base_uri": "https://localhost:8080/",
          "height": 74
        },
        "outputId": "4b17fe5d-38e5-4909-fa58-1ace91f7a9d4"
      },
      "execution_count": 53,
      "outputs": [
        {
          "output_type": "execute_result",
          "data": {
            "text/plain": [
              "LogisticRegression()"
            ],
            "text/html": [
              "<style>#sk-container-id-1 {color: black;background-color: white;}#sk-container-id-1 pre{padding: 0;}#sk-container-id-1 div.sk-toggleable {background-color: white;}#sk-container-id-1 label.sk-toggleable__label {cursor: pointer;display: block;width: 100%;margin-bottom: 0;padding: 0.3em;box-sizing: border-box;text-align: center;}#sk-container-id-1 label.sk-toggleable__label-arrow:before {content: \"▸\";float: left;margin-right: 0.25em;color: #696969;}#sk-container-id-1 label.sk-toggleable__label-arrow:hover:before {color: black;}#sk-container-id-1 div.sk-estimator:hover label.sk-toggleable__label-arrow:before {color: black;}#sk-container-id-1 div.sk-toggleable__content {max-height: 0;max-width: 0;overflow: hidden;text-align: left;background-color: #f0f8ff;}#sk-container-id-1 div.sk-toggleable__content pre {margin: 0.2em;color: black;border-radius: 0.25em;background-color: #f0f8ff;}#sk-container-id-1 input.sk-toggleable__control:checked~div.sk-toggleable__content {max-height: 200px;max-width: 100%;overflow: auto;}#sk-container-id-1 input.sk-toggleable__control:checked~label.sk-toggleable__label-arrow:before {content: \"▾\";}#sk-container-id-1 div.sk-estimator input.sk-toggleable__control:checked~label.sk-toggleable__label {background-color: #d4ebff;}#sk-container-id-1 div.sk-label input.sk-toggleable__control:checked~label.sk-toggleable__label {background-color: #d4ebff;}#sk-container-id-1 input.sk-hidden--visually {border: 0;clip: rect(1px 1px 1px 1px);clip: rect(1px, 1px, 1px, 1px);height: 1px;margin: -1px;overflow: hidden;padding: 0;position: absolute;width: 1px;}#sk-container-id-1 div.sk-estimator {font-family: monospace;background-color: #f0f8ff;border: 1px dotted black;border-radius: 0.25em;box-sizing: border-box;margin-bottom: 0.5em;}#sk-container-id-1 div.sk-estimator:hover {background-color: #d4ebff;}#sk-container-id-1 div.sk-parallel-item::after {content: \"\";width: 100%;border-bottom: 1px solid gray;flex-grow: 1;}#sk-container-id-1 div.sk-label:hover label.sk-toggleable__label {background-color: #d4ebff;}#sk-container-id-1 div.sk-serial::before {content: \"\";position: absolute;border-left: 1px solid gray;box-sizing: border-box;top: 0;bottom: 0;left: 50%;z-index: 0;}#sk-container-id-1 div.sk-serial {display: flex;flex-direction: column;align-items: center;background-color: white;padding-right: 0.2em;padding-left: 0.2em;position: relative;}#sk-container-id-1 div.sk-item {position: relative;z-index: 1;}#sk-container-id-1 div.sk-parallel {display: flex;align-items: stretch;justify-content: center;background-color: white;position: relative;}#sk-container-id-1 div.sk-item::before, #sk-container-id-1 div.sk-parallel-item::before {content: \"\";position: absolute;border-left: 1px solid gray;box-sizing: border-box;top: 0;bottom: 0;left: 50%;z-index: -1;}#sk-container-id-1 div.sk-parallel-item {display: flex;flex-direction: column;z-index: 1;position: relative;background-color: white;}#sk-container-id-1 div.sk-parallel-item:first-child::after {align-self: flex-end;width: 50%;}#sk-container-id-1 div.sk-parallel-item:last-child::after {align-self: flex-start;width: 50%;}#sk-container-id-1 div.sk-parallel-item:only-child::after {width: 0;}#sk-container-id-1 div.sk-dashed-wrapped {border: 1px dashed gray;margin: 0 0.4em 0.5em 0.4em;box-sizing: border-box;padding-bottom: 0.4em;background-color: white;}#sk-container-id-1 div.sk-label label {font-family: monospace;font-weight: bold;display: inline-block;line-height: 1.2em;}#sk-container-id-1 div.sk-label-container {text-align: center;}#sk-container-id-1 div.sk-container {/* jupyter's `normalize.less` sets `[hidden] { display: none; }` but bootstrap.min.css set `[hidden] { display: none !important; }` so we also need the `!important` here to be able to override the default hidden behavior on the sphinx rendered scikit-learn.org. See: https://github.com/scikit-learn/scikit-learn/issues/21755 */display: inline-block !important;position: relative;}#sk-container-id-1 div.sk-text-repr-fallback {display: none;}</style><div id=\"sk-container-id-1\" class=\"sk-top-container\"><div class=\"sk-text-repr-fallback\"><pre>LogisticRegression()</pre><b>In a Jupyter environment, please rerun this cell to show the HTML representation or trust the notebook. <br />On GitHub, the HTML representation is unable to render, please try loading this page with nbviewer.org.</b></div><div class=\"sk-container\" hidden><div class=\"sk-item\"><div class=\"sk-estimator sk-toggleable\"><input class=\"sk-toggleable__control sk-hidden--visually\" id=\"sk-estimator-id-1\" type=\"checkbox\" checked><label for=\"sk-estimator-id-1\" class=\"sk-toggleable__label sk-toggleable__label-arrow\">LogisticRegression</label><div class=\"sk-toggleable__content\"><pre>LogisticRegression()</pre></div></div></div></div></div>"
            ]
          },
          "metadata": {},
          "execution_count": 53
        }
      ]
    },
    {
      "cell_type": "code",
      "source": [
        "y_pred = lr.predict(X_test_tfidf)\n",
        "print(classification_report(y_test, y_pred, target_names=['UPSET','JOY','OPTIMISM','NEUTRAL']))\n"
      ],
      "metadata": {
        "id": "AvvD_Y5WauXM",
        "colab": {
          "base_uri": "https://localhost:8080/"
        },
        "outputId": "1cad256e-ee56-4d0c-a1b7-0fec71ab2f57"
      },
      "execution_count": 54,
      "outputs": [
        {
          "output_type": "stream",
          "name": "stdout",
          "text": [
            "              precision    recall  f1-score   support\n",
            "\n",
            "       UPSET       0.50      0.62      0.55       117\n",
            "         JOY       0.44      0.48      0.46       147\n",
            "    OPTIMISM       0.43      0.47      0.45       137\n",
            "     NEUTRAL       0.71      0.27      0.39        81\n",
            "\n",
            "    accuracy                           0.47       482\n",
            "   macro avg       0.52      0.46      0.46       482\n",
            "weighted avg       0.50      0.47      0.47       482\n",
            "\n"
          ]
        }
      ]
    },
    {
      "cell_type": "code",
      "source": [
        "from sklearn.metrics import accuracy_score\n",
        "\n",
        "# Assuming you have already made predictions y_pred\n",
        "accuracy = accuracy_score(y_test, y_pred)\n",
        "print(\"Accuracy:\", accuracy)\n"
      ],
      "metadata": {
        "id": "ClpkwYDgbj5Y",
        "colab": {
          "base_uri": "https://localhost:8080/"
        },
        "outputId": "4716c3f0-bd79-4c80-8cdd-599dd4bcb0df"
      },
      "execution_count": 55,
      "outputs": [
        {
          "output_type": "stream",
          "name": "stdout",
          "text": [
            "Accuracy: 0.4730290456431535\n"
          ]
        }
      ]
    },
    {
      "cell_type": "code",
      "source": [
        "import numpy as np\n",
        "from tensorflow.keras.preprocessing.text import Tokenizer\n",
        "from tensorflow.keras.preprocessing.sequence import pad_sequences\n",
        "from sklearn.preprocessing import LabelEncoder\n",
        "\n",
        "tokenizer = Tokenizer()\n",
        "tokenizer.fit_on_texts(df['Text_of_Speech'])\n",
        "X = tokenizer.texts_to_sequences(df['Text_of_Speech'])\n",
        "max_seq_length = 250\n",
        "X = pad_sequences(X, maxlen=max_seq_length, padding='post', truncating='post')\n",
        "X_train, X_test, y_train, y_test = train_test_split(X, df['Target'], test_size=0.2, random_state=42)\n"
      ],
      "metadata": {
        "id": "_hepJYXwbkWy"
      },
      "execution_count": 56,
      "outputs": []
    },
    {
      "cell_type": "code",
      "source": [
        "X.shape"
      ],
      "metadata": {
        "id": "GBvy2AI35Tj_",
        "colab": {
          "base_uri": "https://localhost:8080/"
        },
        "outputId": "bace96fb-6ba5-4d2e-9fc4-82673f136585"
      },
      "execution_count": 57,
      "outputs": [
        {
          "output_type": "execute_result",
          "data": {
            "text/plain": [
              "(1605, 250)"
            ]
          },
          "metadata": {},
          "execution_count": 57
        }
      ]
    },
    {
      "cell_type": "markdown",
      "source": [
        "# LSTM"
      ],
      "metadata": {
        "id": "lrcJw-jXlJ6z"
      }
    },
    {
      "cell_type": "code",
      "source": [
        "from tensorflow.keras.models import Sequential\n",
        "from tensorflow.keras.layers import Embedding, LSTM, Dense, Dropout\n",
        "\n",
        "model = Sequential()\n",
        "vocab_size = len(tokenizer.word_index) + 1\n",
        "embedding_dim = 100  # You can adjust this dimension\n",
        "model.add(Embedding(input_dim=vocab_size, output_dim=embedding_dim, input_length=max_seq_length))\n",
        "model.add(LSTM(128, return_sequences=True))\n",
        "model.add(Dropout(0.2))\n",
        "model.add(LSTM(128))\n",
        "model.add(Dropout(0.2))\n",
        "num_classes = 4\n",
        "model.add(Dense(num_classes, activation='softmax'))\n",
        "model.compile(optimizer='adam', loss='sparse_categorical_crossentropy', metrics=['accuracy'])\n",
        "model.summary()\n"
      ],
      "metadata": {
        "id": "NDtzf2AlcEA7",
        "colab": {
          "base_uri": "https://localhost:8080/"
        },
        "outputId": "a3111394-a1d2-4a71-ca3f-ffdaa59f75db"
      },
      "execution_count": 58,
      "outputs": [
        {
          "output_type": "stream",
          "name": "stdout",
          "text": [
            "Model: \"sequential\"\n",
            "_________________________________________________________________\n",
            " Layer (type)                Output Shape              Param #   \n",
            "=================================================================\n",
            " embedding (Embedding)       (None, 250, 100)          3794400   \n",
            "                                                                 \n",
            " lstm (LSTM)                 (None, 250, 128)          117248    \n",
            "                                                                 \n",
            " dropout (Dropout)           (None, 250, 128)          0         \n",
            "                                                                 \n",
            " lstm_1 (LSTM)               (None, 128)               131584    \n",
            "                                                                 \n",
            " dropout_1 (Dropout)         (None, 128)               0         \n",
            "                                                                 \n",
            " dense (Dense)               (None, 4)                 516       \n",
            "                                                                 \n",
            "=================================================================\n",
            "Total params: 4043748 (15.43 MB)\n",
            "Trainable params: 4043748 (15.43 MB)\n",
            "Non-trainable params: 0 (0.00 Byte)\n",
            "_________________________________________________________________\n"
          ]
        }
      ]
    },
    {
      "cell_type": "code",
      "source": [
        "X_train.shape"
      ],
      "metadata": {
        "id": "GpbVyctC57eV",
        "colab": {
          "base_uri": "https://localhost:8080/"
        },
        "outputId": "813fc737-a363-432f-e963-7c3b404708b4"
      },
      "execution_count": 59,
      "outputs": [
        {
          "output_type": "execute_result",
          "data": {
            "text/plain": [
              "(1284, 250)"
            ]
          },
          "metadata": {},
          "execution_count": 59
        }
      ]
    },
    {
      "cell_type": "code",
      "source": [
        "batch_size = 64\n",
        "epochs = 25\n",
        "\n",
        "history = model.fit(X_train, y_train, batch_size=batch_size, epochs=epochs)\n"
      ],
      "metadata": {
        "id": "FGuRbsOmcie9",
        "colab": {
          "base_uri": "https://localhost:8080/"
        },
        "outputId": "3612f32e-d39f-4c8d-bd38-dd0fb4035c68"
      },
      "execution_count": 60,
      "outputs": [
        {
          "output_type": "stream",
          "name": "stdout",
          "text": [
            "Epoch 1/25\n",
            "21/21 [==============================] - 30s 1s/step - loss: 1.3618 - accuracy: 0.3022\n",
            "Epoch 2/25\n",
            "21/21 [==============================] - 24s 1s/step - loss: 1.3330 - accuracy: 0.3123\n",
            "Epoch 3/25\n",
            "21/21 [==============================] - 23s 1s/step - loss: 1.1973 - accuracy: 0.4868\n",
            "Epoch 4/25\n",
            "21/21 [==============================] - 24s 1s/step - loss: 0.8598 - accuracy: 0.6503\n",
            "Epoch 5/25\n",
            "21/21 [==============================] - 26s 1s/step - loss: 0.4969 - accuracy: 0.7897\n",
            "Epoch 6/25\n",
            "21/21 [==============================] - 22s 1s/step - loss: 0.3384 - accuracy: 0.8505\n",
            "Epoch 7/25\n",
            "21/21 [==============================] - 26s 1s/step - loss: 0.3076 - accuracy: 0.8575\n",
            "Epoch 8/25\n",
            "21/21 [==============================] - 22s 1s/step - loss: 0.2768 - accuracy: 0.8715\n",
            "Epoch 9/25\n",
            "21/21 [==============================] - 24s 1s/step - loss: 0.2874 - accuracy: 0.8598\n",
            "Epoch 10/25\n",
            "21/21 [==============================] - 24s 1s/step - loss: 0.2599 - accuracy: 0.8801\n",
            "Epoch 11/25\n",
            "21/21 [==============================] - 22s 1s/step - loss: 0.2798 - accuracy: 0.8668\n",
            "Epoch 12/25\n",
            "21/21 [==============================] - 24s 1s/step - loss: 0.3200 - accuracy: 0.8598\n",
            "Epoch 13/25\n",
            "21/21 [==============================] - 24s 1s/step - loss: 0.2712 - accuracy: 0.8684\n",
            "Epoch 14/25\n",
            "21/21 [==============================] - 22s 1s/step - loss: 0.2544 - accuracy: 0.8746\n",
            "Epoch 15/25\n",
            "21/21 [==============================] - 26s 1s/step - loss: 0.2538 - accuracy: 0.8793\n",
            "Epoch 16/25\n",
            "21/21 [==============================] - 22s 1s/step - loss: 0.3149 - accuracy: 0.8793\n",
            "Epoch 17/25\n",
            "21/21 [==============================] - 24s 1s/step - loss: 0.3083 - accuracy: 0.8738\n",
            "Epoch 18/25\n",
            "21/21 [==============================] - 24s 1s/step - loss: 0.2407 - accuracy: 0.8949\n",
            "Epoch 19/25\n",
            "21/21 [==============================] - 22s 1s/step - loss: 0.2473 - accuracy: 0.8972\n",
            "Epoch 20/25\n",
            "21/21 [==============================] - 24s 1s/step - loss: 0.2403 - accuracy: 0.8941\n",
            "Epoch 21/25\n",
            "21/21 [==============================] - 24s 1s/step - loss: 0.5231 - accuracy: 0.8045\n",
            "Epoch 22/25\n",
            "21/21 [==============================] - 24s 1s/step - loss: 0.3004 - accuracy: 0.8707\n",
            "Epoch 23/25\n",
            "21/21 [==============================] - 24s 1s/step - loss: 0.2515 - accuracy: 0.8941\n",
            "Epoch 24/25\n",
            "21/21 [==============================] - 24s 1s/step - loss: 0.2096 - accuracy: 0.9034\n",
            "Epoch 25/25\n",
            "21/21 [==============================] - 22s 1s/step - loss: 0.1974 - accuracy: 0.9128\n"
          ]
        }
      ]
    },
    {
      "cell_type": "code",
      "source": [],
      "metadata": {
        "id": "Guh8URD1GRSg"
      },
      "execution_count": null,
      "outputs": []
    },
    {
      "cell_type": "markdown",
      "source": [
        "# GRU"
      ],
      "metadata": {
        "id": "F-MWF0nhlXqU"
      }
    },
    {
      "cell_type": "code",
      "source": [
        "from tensorflow.keras.models import Sequential\n",
        "from tensorflow.keras.layers import Embedding, GRU, Dense, Dropout\n",
        "\n",
        "model = Sequential()\n",
        "vocab_size = len(tokenizer.word_index) + 1\n",
        "embedding_dim = 300\n",
        "model.add(Embedding(input_dim=vocab_size, output_dim=embedding_dim, input_length=max_seq_length))\n",
        "model.add(GRU(128, return_sequences=True))\n",
        "model.add(Dropout(0.5))\n",
        "model.add(GRU(128))\n",
        "model.add(Dropout(0.5))\n",
        "num_classes = 4\n",
        "model.add(Dense(num_classes, activation='softmax'))\n",
        "model.compile(optimizer='adam', loss='sparse_categorical_crossentropy', metrics=['accuracy'])\n",
        "model.summary()\n"
      ],
      "metadata": {
        "id": "FB994R8Ik9y1",
        "colab": {
          "base_uri": "https://localhost:8080/"
        },
        "outputId": "a8705860-50d8-4398-ed16-ebe70c57c22e"
      },
      "execution_count": 63,
      "outputs": [
        {
          "output_type": "stream",
          "name": "stdout",
          "text": [
            "Model: \"sequential_1\"\n",
            "_________________________________________________________________\n",
            " Layer (type)                Output Shape              Param #   \n",
            "=================================================================\n",
            " embedding_1 (Embedding)     (None, 250, 300)          11383200  \n",
            "                                                                 \n",
            " gru (GRU)                   (None, 250, 128)          165120    \n",
            "                                                                 \n",
            " dropout_2 (Dropout)         (None, 250, 128)          0         \n",
            "                                                                 \n",
            " gru_1 (GRU)                 (None, 128)               99072     \n",
            "                                                                 \n",
            " dropout_3 (Dropout)         (None, 128)               0         \n",
            "                                                                 \n",
            " dense_1 (Dense)             (None, 4)                 516       \n",
            "                                                                 \n",
            "=================================================================\n",
            "Total params: 11647908 (44.43 MB)\n",
            "Trainable params: 11647908 (44.43 MB)\n",
            "Non-trainable params: 0 (0.00 Byte)\n",
            "_________________________________________________________________\n"
          ]
        }
      ]
    },
    {
      "cell_type": "code",
      "source": [
        "model.save('Model_LSTM.h5')"
      ],
      "metadata": {
        "id": "LqO1EsOXs-yI",
        "colab": {
          "base_uri": "https://localhost:8080/"
        },
        "outputId": "6d433eb9-395f-4e0c-e69a-2bee3449ec9d"
      },
      "execution_count": 64,
      "outputs": [
        {
          "output_type": "stream",
          "name": "stderr",
          "text": [
            "/usr/local/lib/python3.10/dist-packages/keras/src/engine/training.py:3000: UserWarning: You are saving your model as an HDF5 file via `model.save()`. This file format is considered legacy. We recommend using instead the native Keras format, e.g. `model.save('my_model.keras')`.\n",
            "  saving_api.save_model(\n"
          ]
        }
      ]
    },
    {
      "cell_type": "markdown",
      "source": [
        "# Training"
      ],
      "metadata": {
        "id": "_EtUBYGStCGV"
      }
    },
    {
      "cell_type": "code",
      "source": [
        "batch_size = 64\n",
        "epochs = 5\n",
        "\n",
        "history = model.fit(X_train, y_train, batch_size=batch_size, epochs=epochs)\n"
      ],
      "metadata": {
        "id": "gjSKYvKtlZ4g",
        "colab": {
          "base_uri": "https://localhost:8080/"
        },
        "outputId": "2a39a3c0-f7cf-4339-ab95-b735c8b09f7d"
      },
      "execution_count": 66,
      "outputs": [
        {
          "output_type": "stream",
          "name": "stdout",
          "text": [
            "Epoch 1/5\n",
            "21/21 [==============================] - 33s 2s/step - loss: 0.2992 - accuracy: 0.2874\n",
            "Epoch 2/5\n",
            "21/21 [==============================] - 28s 1s/step - loss: 0.3635 - accuracy: 0.3030\n",
            "Epoch 3/5\n",
            "21/21 [==============================] - 28s 1s/step - loss: 0.2929 - accuracy: 0.3053\n",
            "Epoch 4/5\n",
            "21/21 [==============================] - 31s 1s/step - loss: 0.2955 - accuracy: 0.2835\n",
            "Epoch 5/5\n",
            "21/21 [==============================] - 28s 1s/step - loss: 0.2925 - accuracy: 0.3045\n"
          ]
        }
      ]
    },
    {
      "cell_type": "code",
      "source": [
        "epochs= range(1, len(history.history[\"accuracy\"])+1)\n",
        "\n",
        "plt.plot(epochs, history.history[\"accuracy\"], color=\"purple\")\n",
        "plt.xlabel(\"epochs\")\n",
        "plt.ylabel(\"accuracy\")\n",
        "plt.title(\"Accuracy plot\")\n",
        "plt.legend([\"train_acc\"])\n",
        "plt.show()\n",
        "\n",
        "plt.plot(epochs, history.history[\"loss\"], color=\"purple\")\n",
        "plt.xlabel(\"epochs\")\n",
        "plt.ylabel(\"loss\")\n",
        "plt.title(\"Loss plot\")\n",
        "plt.legend([\"train_loss\"])\n",
        "plt.show()"
      ],
      "metadata": {
        "id": "DOVLACQLljvg",
        "colab": {
          "base_uri": "https://localhost:8080/",
          "height": 927
        },
        "outputId": "cdae688b-54ea-4e95-ba34-822fd30fd54f"
      },
      "execution_count": 67,
      "outputs": [
        {
          "output_type": "display_data",
          "data": {
            "text/plain": [
              "<Figure size 640x480 with 1 Axes>"
            ],
            "image/png": "[encoded data removed]"
          },
          "metadata": {}
        },
        {
          "output_type": "display_data",
          "data": {
            "text/plain": [
              "<Figure size 640x480 with 1 Axes>"
            ],
            "image/png": "[encoded data removed]"
          },
          "metadata": {}
        }
      ]
    },
    {
      "cell_type": "code",
      "source": [
        "\n",
        "input_text = \"esteem mr lebedevladi gentlemenyou gather sum result past year sure end discuss year russia turn new page histori right time open discuss chang taken place judici system last decad look like near futureof legal profession judg alway enjoy special prestig prais measur approach word action hand law acquir real power becom instrument uphold justic act behalf state hand verdict behalf russian federationa court law mean power enorm power entail huge respons usual view court disciplinari machin give speedi alway fair judgment confin past habit seek protect superior replac peopl mind understand conveni advantag take matter court defend right assistancetoday citizen will frequent judici system court live higher expect go talk good opportun ponder current condit judici systemat present  crimin civil case await trial russian court almost  case tri moscow court alon januari  past year  case return investig onethird verdict delayedregrett figur show busi judg also mani peopl still wait fair resolut problem meanwhil mani case problem determin futur fulli awar defend spend month sometim year detent facil hear civil case involv hous inherit famili issu delay agesmeanwhil peopl judg effect govern power integr court level democraci world matter reason huge liabil judiciari countri leader therefor govern author wholeth judiciari real independ best indic state base rule law old univers problem old world time anatoli koni said judg “protect condit conduc cowardic forc assentation” hit nail headregrett wit relaps old attitud court appendag bureaucrat machinefor instanc russian presid prerog deleg power judg context alarm region leader tri place judici system controleveryon rememb ingush leader attempt hold republican referendum procedur appoint judg violat feder law guarante equal right citizen throughout russiamoreov constitut russian republ still contain claus resid appoint judg formula dozen transgressionsi would like say right away fulli support posit suprem court russian feder council judg oppos encroach exist procedur form court appoint feder judgesi equal talk revis judiciari current status impos limit guarante immun independ autonomi sanction law attempt transgress upon constitut principl nip budmor eight year ago suprem soviet russian feder approv judiciari reform concept aim creat strong independ legal systemth judiciari took direct part process renew suprem court initi adopt law militari tribun judici depart fund court russian feder import adopt legisl judici system still ridden mani serious problem mani task still ahead itfirst legal foundat administ justic full accord russian constitut unjustifi delay adopt basic law court law new code crimin legal proceed legisl act administr proceed court bad need work russia constitut court alreadi issu  resolut discrep individu provis code crimin proceed constitut general messag resolut reinforc adversari proceed mayb time implement full constitut rule wherebi person may arrest detain basi court rule mean right give serious thoughtsecond old rule provid effect legal protect law right interest citizen particular rule relat provid broader access justic defenc preliminari investigationfin russian legisl reform line univers recogn norm intern lawyou know may   russia ratifi convent protect human right fundament freedom becom part legal system addit recogn jurisdict european court human right today must pay special attent problem russian judici system european court may object tofirst appli meet reason deadlin court deliber european court accept excus overload lack judg shortag fund nation court drag trialstoday would like discuss anoth key aspect activ – case involv econom crime transit central plan economi one govern market imposs without strengthen foundat latter primarili effect perform legal institutionsin regul economi state primarili guarante market streamlin function stabl environ demand fulli appli legisl execut branch govern also court law arbitrationth new civil crimin code combin two approach protect right law interest particip econom relat one hand guarante entrepreneur freedom econom perform right hand interest state demand econom agent well role guarante interest particip promot tax collect well combat money launder illeg export capitali would like stress one point govern heavili critic abandon economi without reason alreadi mention sever time believ repeat talk colleagu state interfer economi case resurrect commandbas plan economi instead creat power lever understand rule enforc addit regul economi state make sure rule everyon guarante market player follow case transpar attract invest environ needless say state creat new mechan also keep old one good shapethi direct appli fund judici system recent question becam urgent russia constitut court sayarticl  constitut read “court law shall financ feder budget financ shall ensur full independ administr justic accord feder law”thi concern fund programm develop judici system also financi support judg receiv modest salari deal case worth billion roubl fight crime danger offend without proper protect yourselvesthes realiti today give much reason optim goe without say everyth compli state abil also clear state want everyth function normal product economi effect institut must pay attent thisi want make promis would wrong speak big rise salari would like know understand rise necessari certain move direct must say much alreadi done give judg due last year judg court administr offici receiv full salari time fund increas almost  million roubl order rais offici rate pay half battleprogramm strengthen rule law combat crime adequ fund mani law alreadi pass enforc lack money defend constitut right trial juri put practic reason today trial juri limit nine region russia oper everywherefin sometim lack money court cannot even meet basic need summon wit interpret expert law demand enough form envelop money mail expens still enough comput technic facil court recordsw shirk respons situat work improv alreadi said much effect think state fail pay proper attent problem abl collect tax owe economi perform well therefor tightfist courtsmeanwhil court also take step control expens streamlin cash flow otherwis difficult resist attempt local leader “privatize” court partial fundingther one major problem want point personn alreadi said complaint overload court surfac often becom commonplac inde still  vacanc judgesthi year authoris staff size increas thousand posit presidenti decre feder judg reliev part burden implement feder law justic peac almost  peopl sworn justicesthes plan make even urgent creat effect system train proper screen judg essenti improv screen process also streamlin rule appoint judg remov offic current procedur complic take extrem long time guarante promotionbut would also like say personnel problem limit describ author judici power effect perform larg determin judg qualif unbias attitud needless say averag two three time fewer judg per capita mani western countri deni citizen right speedi trialmi friendsyou know well result work direct effect polit econom life societi court remain key factor safeguard democraci allow russia forg ahead new centuryyou receiv lot extra work sinc decemb elect citizen associ alert violat elector law feder region bodi govern flood complaint like subsid begin summeryou know posit – mean govern posit state societi need honest elect result open honest elect campaign way achiev fullyfledg effect govern way guarante democraci orderdur confer certain talk much implement judici reform let tell straight – reform drag difficult societi look ambigu human faith inviol law depend final result person decenc professionalismi much hope continu guid work principl profession honour judici duti respons homeland would like wish russia judiciari bestthank attent\"\n",
        "\n",
        "# Preprocess the input text\n",
        "cleaned_text = clean_text(input_text)\n",
        "text_without_stopwords = remove_stopwords(cleaned_text)\n",
        "stemmed_text = stemm_text(text_without_stopwords)\n",
        "\n",
        "# Tokenize and encode the text\n",
        "input_sequence = tokenizer.texts_to_sequences([stemmed_text])\n",
        "\n",
        "# Pad sequences\n",
        "input_sequence = pad_sequences(input_sequence, maxlen=max_seq_length)\n",
        "\n",
        "# Make predictions\n",
        "predicted_probabilities = model.predict(input_sequence)\n",
        "\n",
        "# Convert predictions to class label\n",
        "predicted_class = predicted_probabilities.argmax(axis=1)[0]\n",
        "\n",
        "print(f\"Predicted Class: {predicted_class}\")\n"
      ],
      "metadata": {
        "id": "5clbza1--Q2a"
      },
      "execution_count": null,
      "outputs": []
    },
    {
      "cell_type": "code",
      "source": [
        "model.save(\"model.h5\")"
      ],
      "metadata": {
        "id": "X3NflgWhAV8Q"
      },
      "execution_count": null,
      "outputs": []
    },
    {
      "cell_type": "code",
      "source": [],
      "metadata": {
        "id": "patLkgBGA7iy"
      },
      "execution_count": null,
      "outputs": []
    }
  ],
  "metadata": {
    "accelerator": "GPU",
    "colab": {
      "provenance": []
    },
    "kernelspec": {
      "display_name": "Python 3",
      "name": "python3"
    },
    "language_info": {
      "name": "python"
    }
  },
  "nbformat": 4,
  "nbformat_minor": 0
}